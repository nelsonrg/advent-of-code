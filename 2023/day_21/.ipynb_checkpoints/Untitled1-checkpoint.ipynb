{
 "cells": [
  {
   "cell_type": "code",
   "execution_count": 1,
   "id": "98972205-9275-46e4-97a8-9df720a37da9",
   "metadata": {},
   "outputs": [],
   "source": [
    "import numpy as np\n",
    "from itertools import chain\n",
    "import matplotlib.pyplot as plt\n",
    "\n",
    "\n",
    "def read_input(fname):\n",
    "    with open(fname) as file:\n",
    "        return np.array([list(x.strip()) for x in file.readlines()])\n",
    "\n",
    "\n",
    "def find_reachable_points(x):\n",
    "    reachable_plots = {}\n",
    "    height = x.shape[0]\n",
    "    width = x.shape[1]\n",
    "    for i in range(height):\n",
    "        for j in range(width):\n",
    "            point = (i, j)\n",
    "            reachable_plots[point] = []\n",
    "            # up\n",
    "            if i > 0 and x[i-1, j] in \".S\":\n",
    "                reachable_plots[point].append((i-1, j))\n",
    "            # down\n",
    "            if i < height - 1 and x[i+1, j] in \".S\":\n",
    "                reachable_plots[point].append((i+1, j))\n",
    "            # left\n",
    "            if j > 0 and x[i, j-1] in \".S\":\n",
    "                reachable_plots[point].append((i, j-1))\n",
    "            # right\n",
    "            if j < width - 1 and x[i, j+1] in \".S\":\n",
    "                reachable_plots[point].append((i, j+1))\n",
    "    return reachable_plots\n",
    "\n",
    "\n",
    "def part_1(x, n_steps):\n",
    "    reachable_plots = find_reachable_points(x)\n",
    "    start = np.where(x == \"S\")\n",
    "    current = set([(start[0][0], start[1][0])])\n",
    "    for step in range(n_steps):\n",
    "        current = set(chain(*(reachable_plots[point] for point in current)))\n",
    "    return len(current)\n",
    "\n",
    "\n",
    "def find_reachable_points2(x):\n",
    "    reachable_plots = {}\n",
    "    height = x.shape[0]\n",
    "    width = x.shape[1]\n",
    "    for i in range(height):\n",
    "        for j in range(width):\n",
    "            point = (0, 0, i, j)\n",
    "            reachable_plots[point] = []\n",
    "            # up\n",
    "            if i > 0 and x[i-1, j] in \".S\":\n",
    "                reachable_plots[point].append((0, 0, i-1, j))\n",
    "            elif i == 0 and x[-1, j] in \".S\":\n",
    "                reachable_plots[point].append((-1, 0, height-1, j))\n",
    "            # down\n",
    "            if i < height - 1 and x[i+1, j] in \".S\":\n",
    "                reachable_plots[point].append((0, 0, i+1, j))\n",
    "            elif i == height - 1 and x[0, j] in \".S\":\n",
    "                reachable_plots[point].append((1, 0, 0, j))\n",
    "            # left\n",
    "            if j > 0 and x[i, j-1] in \".S\":\n",
    "                reachable_plots[point].append((0, 0, i, j-1))\n",
    "            elif j == 0 and x[i, -1] in \".S\":\n",
    "                reachable_plots[point].append((0, -1, i, width-1))\n",
    "            # right\n",
    "            if j < width - 1 and x[i, j+1] in \".S\":\n",
    "                reachable_plots[point].append((0, 0, i, j+1))\n",
    "            elif j == width - 1 and x[i, 0] in \".S\":\n",
    "                reachable_plots[point].append((0, 1, i, 0))\n",
    "    return reachable_plots\n",
    "\n",
    "\n",
    "def get_reachable_points(point, reachable_points):\n",
    "    map_y, map_x, y, x = point\n",
    "    next_points = reachable_points[(0, 0, y, x)]\n",
    "    return [(map_y+map_dy, map_x+map_dx, y, x) for map_dy, map_dx, y, x\n",
    "            in next_points]\n",
    "\n",
    "\n",
    "def part_2(x, n_steps):\n",
    "    reachable_plots = find_reachable_points2(x)\n",
    "    start = np.where(x == \"S\")\n",
    "    current = set([(0, 0, start[0][0], start[1][0])])\n",
    "    steps = []\n",
    "    values = []\n",
    "    for step in range(n_steps):\n",
    "        current = set(\n",
    "            chain(*(get_reachable_points(point, reachable_plots)\n",
    "                    for point in current))\n",
    "        )\n",
    "        steps.append(step)\n",
    "        values.append(len(current))\n",
    "    return steps, values"
   ]
  },
  {
   "cell_type": "code",
   "execution_count": 43,
   "id": "f14ab50c-e9cd-495c-b340-2b559646863c",
   "metadata": {},
   "outputs": [
    {
     "ename": "FileNotFoundError",
     "evalue": "[Errno 2] No such file or directory: 'test.txt'",
     "output_type": "error",
     "traceback": [
      "\u001b[0;31m---------------------------------------------------------------------------\u001b[0m",
      "\u001b[0;31mFileNotFoundError\u001b[0m                         Traceback (most recent call last)",
      "\u001b[0;32m/tmp/ipykernel_16411/87770906.py\u001b[0m in \u001b[0;36m<module>\u001b[0;34m\u001b[0m\n\u001b[0;32m----> 1\u001b[0;31m \u001b[0msteps\u001b[0m\u001b[0;34m,\u001b[0m \u001b[0mvalues\u001b[0m \u001b[0;34m=\u001b[0m \u001b[0mpart_2\u001b[0m\u001b[0;34m(\u001b[0m\u001b[0mread_input\u001b[0m\u001b[0;34m(\u001b[0m\u001b[0;34m\"test.txt\"\u001b[0m\u001b[0;34m)\u001b[0m\u001b[0;34m,\u001b[0m \u001b[0;36m500\u001b[0m\u001b[0;34m)\u001b[0m\u001b[0;34m\u001b[0m\u001b[0;34m\u001b[0m\u001b[0m\n\u001b[0m",
      "\u001b[0;32m/tmp/ipykernel_16411/786892443.py\u001b[0m in \u001b[0;36mread_input\u001b[0;34m(fname)\u001b[0m\n\u001b[1;32m      5\u001b[0m \u001b[0;34m\u001b[0m\u001b[0m\n\u001b[1;32m      6\u001b[0m \u001b[0;32mdef\u001b[0m \u001b[0mread_input\u001b[0m\u001b[0;34m(\u001b[0m\u001b[0mfname\u001b[0m\u001b[0;34m)\u001b[0m\u001b[0;34m:\u001b[0m\u001b[0;34m\u001b[0m\u001b[0;34m\u001b[0m\u001b[0m\n\u001b[0;32m----> 7\u001b[0;31m     \u001b[0;32mwith\u001b[0m \u001b[0mopen\u001b[0m\u001b[0;34m(\u001b[0m\u001b[0mfname\u001b[0m\u001b[0;34m)\u001b[0m \u001b[0;32mas\u001b[0m \u001b[0mfile\u001b[0m\u001b[0;34m:\u001b[0m\u001b[0;34m\u001b[0m\u001b[0;34m\u001b[0m\u001b[0m\n\u001b[0m\u001b[1;32m      8\u001b[0m         \u001b[0;32mreturn\u001b[0m \u001b[0mnp\u001b[0m\u001b[0;34m.\u001b[0m\u001b[0marray\u001b[0m\u001b[0;34m(\u001b[0m\u001b[0;34m[\u001b[0m\u001b[0mlist\u001b[0m\u001b[0;34m(\u001b[0m\u001b[0mx\u001b[0m\u001b[0;34m.\u001b[0m\u001b[0mstrip\u001b[0m\u001b[0;34m(\u001b[0m\u001b[0;34m)\u001b[0m\u001b[0;34m)\u001b[0m \u001b[0;32mfor\u001b[0m \u001b[0mx\u001b[0m \u001b[0;32min\u001b[0m \u001b[0mfile\u001b[0m\u001b[0;34m.\u001b[0m\u001b[0mreadlines\u001b[0m\u001b[0;34m(\u001b[0m\u001b[0;34m)\u001b[0m\u001b[0;34m]\u001b[0m\u001b[0;34m)\u001b[0m\u001b[0;34m\u001b[0m\u001b[0;34m\u001b[0m\u001b[0m\n\u001b[1;32m      9\u001b[0m \u001b[0;34m\u001b[0m\u001b[0m\n",
      "\u001b[0;31mFileNotFoundError\u001b[0m: [Errno 2] No such file or directory: 'test.txt'"
     ]
    }
   ],
   "source": [
    "steps, values = part_2(read_input(\"test.txt\"), 500)"
   ]
  },
  {
   "cell_type": "code",
   "execution_count": 4,
   "id": "a61772ba-bbbb-456f-9db1-19333880847f",
   "metadata": {},
   "outputs": [],
   "source": [
    "steps = np.array(steps)\n",
    "values = np.array(values)"
   ]
  },
  {
   "cell_type": "code",
   "execution_count": 5,
   "id": "a21dc13f-6327-48d1-b785-e191a6a6c89a",
   "metadata": {},
   "outputs": [],
   "source": [
    "step_delta = steps[1:]\n",
    "value_divide = values[1:] / values[:-1]\n",
    "value_subtract = values[1:] - values[:-1]"
   ]
  },
  {
   "cell_type": "code",
   "execution_count": 6,
   "id": "56fd9d4d-51fd-4b79-b148-e4ef7de1f751",
   "metadata": {},
   "outputs": [
    {
     "data": {
      "image/png": "[encoded data removed]",
      "text/plain": [
       "<Figure size 640x480 with 1 Axes>"
      ]
     },
     "metadata": {},
     "output_type": "display_data"
    }
   ],
   "source": [
    "plt.plot(steps, values)\n",
    "plt.show()"
   ]
  },
  {
   "cell_type": "code",
   "execution_count": 7,
   "id": "fad009c9-8c8f-4dfb-b05c-11758088939a",
   "metadata": {},
   "outputs": [
    {
     "data": {
      "image/png": "[encoded data removed]",
      "text/plain": [
       "<Figure size 640x480 with 1 Axes>"
      ]
     },
     "metadata": {},
     "output_type": "display_data"
    }
   ],
   "source": [
    "plt.plot(step_delta, value_divide)\n",
    "plt.yscale(\"log\")\n",
    "plt.show()"
   ]
  },
  {
   "cell_type": "code",
   "execution_count": 8,
   "id": "43c0a304-abb9-46df-9c51-229a4323d029",
   "metadata": {},
   "outputs": [
    {
     "data": {
      "text/plain": [
       "array([ 65, 196, 327, 458])"
      ]
     },
     "execution_count": 8,
     "metadata": {},
     "output_type": "execute_result"
    }
   ],
   "source": [
    "width = 131\n",
    "\n",
    "steps = np.arange(65, 500, 131)\n",
    "steps"
   ]
  },
  {
   "cell_type": "code",
   "execution_count": 9,
   "id": "084d876b-4483-4fe5-8ffa-8bcec9810da6",
   "metadata": {},
   "outputs": [
    {
     "data": {
      "text/plain": [
       "array([  3870,  33452,  92196, 180102])"
      ]
     },
     "execution_count": 9,
     "metadata": {},
     "output_type": "execute_result"
    }
   ],
   "source": [
    "values[steps]"
   ]
  },
  {
   "cell_type": "code",
   "execution_count": 39,
   "id": "92dbc3be-0f63-4afc-8fd4-1979ce61caf7",
   "metadata": {},
   "outputs": [],
   "source": [
    "X = np.arange(64, 500, 131)\n",
    "y = values[X]"
   ]
  },
  {
   "cell_type": "code",
   "execution_count": 40,
   "id": "1a4c7cb4-44aa-4c54-9acb-3090d7672bf0",
   "metadata": {},
   "outputs": [
    {
     "data": {
      "text/plain": [
       "202300.0"
      ]
     },
     "execution_count": 40,
     "metadata": {},
     "output_type": "execute_result"
    }
   ],
   "source": [
    "(26501365 - 65) / 131"
   ]
  },
  {
   "cell_type": "code",
   "execution_count": 41,
   "id": "8f74035d-5254-4bb8-a9db-ad7084f47ca3",
   "metadata": {},
   "outputs": [],
   "source": [
    "p = np.poly1d(np.polyfit(X, y, 2))"
   ]
  },
  {
   "cell_type": "code",
   "execution_count": 42,
   "id": "e8040066-5691-432d-bf87-9b9e2e5a50d7",
   "metadata": {},
   "outputs": [
    {
     "data": {
      "text/plain": [
       "596734669303466.2"
      ]
     },
     "execution_count": 42,
     "metadata": {},
     "output_type": "execute_result"
    }
   ],
   "source": [
    "p(26501365)"
   ]
  },
  {
   "cell_type": "code",
   "execution_count": 34,
   "id": "d299290b-bc2d-482b-9422-743d23113091",
   "metadata": {},
   "outputs": [
    {
     "data": {
      "text/plain": [
       "596734624269209.5"
      ]
     },
     "execution_count": 34,
     "metadata": {},
     "output_type": "execute_result"
    }
   ],
   "source": [
    "X = np.array([0, 1, 2, 3])\n",
    "y = values[np.arange(64, 500, 131)][:]\n",
    "p = np.poly1d(np.polyfit(X, y, 2))\n",
    "p(202300)"
   ]
  },
  {
   "cell_type": "code",
   "execution_count": null,
   "id": "83d4f512-8ee6-4e76-8db4-bda8b8f3a4ea",
   "metadata": {},
   "outputs": [],
   "source": []
  }
 ],
 "metadata": {
  "kernelspec": {
   "display_name": "Python 3 (ipykernel)",
   "language": "python",
   "name": "python3"
  },
  "language_info": {
   "codemirror_mode": {
    "name": "ipython",
    "version": 3
   },
   "file_extension": ".py",
   "mimetype": "text/x-python",
   "name": "python",
   "nbconvert_exporter": "python",
   "pygments_lexer": "ipython3",
   "version": "3.9.13"
  }
 },
 "nbformat": 4,
 "nbformat_minor": 5
}
